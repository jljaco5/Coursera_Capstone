{
 "cells": [
  {
   "cell_type": "markdown",
   "metadata": {},
   "source": [
    "## Exploring Neighborhoods of the Happiest and Saddest Cities in America (IBM Data Science Capstone Project)"
   ]
  },
  {
   "cell_type": "markdown",
   "metadata": {},
   "source": [
    "#### By: Jessica Jacobson"
   ]
  },
  {
   "cell_type": "markdown",
   "metadata": {},
   "source": [
    "### **Introduction**"
   ]
  },
  {
   "cell_type": "markdown",
   "metadata": {},
   "source": [
    "**Background**"
   ]
  },
  {
   "cell_type": "markdown",
   "metadata": {},
   "source": [
    "In March 2019, WalletHub conducted a study of 182 cities in the United States, ranking them according to the  happiness of their residents. Factors considered in this study included depression, suicide rates, average household income, poverty rate, crime rate, weather conditions in addition to other personal, social and financial factors. The happiest city in America was determined to be Plano, TX while the saddest was determined to be Detroit, MI. (View study results at https://wallethub.com/edu/happiest-places-to-live/32619/)."
   ]
  },
  {
   "cell_type": "markdown",
   "metadata": {},
   "source": [
    "**Business Problem**"
   ]
  },
  {
   "cell_type": "markdown",
   "metadata": {},
   "source": [
    "What do the \"happiest\" and \"saddest\" cities in America look like? Are they similar or do they reveal striking differences? In this study, we will analyze the neighborhoods and venues that make up both Plano, TX and Detroit, MI. We will find if the \"happiness\" of these cities show any possible relation to their physical makeup."
   ]
  },
  {
   "cell_type": "markdown",
   "metadata": {},
   "source": [
    "**Interested Audience**"
   ]
  },
  {
   "cell_type": "markdown",
   "metadata": {},
   "source": [
    "This study provides valuable information for city planners and public servants who could make decisions to facilitate a \"happier\" city for their citizens. Business owners would also benefit from understanding the impact their venues can have on the morale of their neighbors. Lastly, as people are relocating, they can identify the neighborhood types to both embrace and avoid. "
   ]
  },
  {
   "cell_type": "markdown",
   "metadata": {},
   "source": [
    "### **Data Section**"
   ]
  },
  {
   "cell_type": "markdown",
   "metadata": {},
   "source": [
    "**Description of the Data**"
   ]
  },
  {
   "cell_type": "markdown",
   "metadata": {},
   "source": [
    "A list of Neighbohoods in Plano, TX was found on www.neighborhoodscout.com. This list of neighborhoods, along with latitiude and longitude coordinates from Google Maps was used to create a Plano, TX csv file. \n",
    "\n",
    "Likewise, a list of neighborhoods in Detroit, MI was downloaded from https://data.detroitmi.gov and corresponding coordinates were found using Google Maps to create a Detroit, MI csv file.\n",
    "\n",
    "By using the Foursquare API, we have downloaded a list of venues in each neighborhood for both Plano, TX and Detroit, MI. "
   ]
  },
  {
   "cell_type": "markdown",
   "metadata": {},
   "source": [
    "**How the Data will be used to solve the problem**"
   ]
  },
  {
   "cell_type": "markdown",
   "metadata": {},
   "source": [
    "By using the Foursquare API interface, we will import the top venues for each neighborhood in Plano, TX and Detroit, MI. Using the top five venues in each neighborhood, we will use k-means clustering to find patterns for each city. Folium and Matplotlib will be used to visualize these clusters on a map of these cities. We will also determine the top venues categories and how often these venue types appear in each city. Using this data, we will draw comparisons between these two cities."
   ]
  }
 ],
 "metadata": {
  "kernelspec": {
   "display_name": "Python",
   "language": "python",
   "name": "conda-env-python-py"
  },
  "language_info": {
   "codemirror_mode": {
    "name": "ipython",
    "version": 3
   },
   "file_extension": ".py",
   "mimetype": "text/x-python",
   "name": "python",
   "nbconvert_exporter": "python",
   "pygments_lexer": "ipython3",
   "version": "3.6.11"
  }
 },
 "nbformat": 4,
 "nbformat_minor": 4
}
